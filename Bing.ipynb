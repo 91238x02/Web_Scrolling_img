{
 "cells": [
  {
   "cell_type": "markdown",
   "id": "durable-circuit",
   "metadata": {
    "ExecuteTime": {
     "end_time": "2021-03-24T11:30:56.962303Z",
     "start_time": "2021-03-24T11:30:56.961303Z"
    }
   },
   "source": [
    "### Bing"
   ]
  },
  {
   "cell_type": "code",
   "execution_count": null,
   "id": "intelligent-compensation",
   "metadata": {
    "ExecuteTime": {
     "end_time": "2021-03-24T07:32:48.932792Z",
     "start_time": "2021-03-24T07:26:57.242291Z"
    }
   },
   "outputs": [],
   "source": [
    "## Bing\n",
    "import urllib.request    \n",
    "from bs4 import BeautifulSoup    \n",
    "from selenium import webdriver    \n",
    "from selenium.webdriver.common.keys import Keys\n",
    "import time    \n",
    "\n",
    "binary = 'C:\\\\chromedriver\\\\chromedriver.exe'    \n",
    "browser = webdriver.Chrome(binary)    \n",
    "browser.get(\"https://www.bing.com/images?Form=Z9LH\")    \n",
    "elem = browser.find_element_by_id(\"sb_form_q\")    \n",
    "\n",
    "elem.send_keys(\"CW2288-111\")    # 검색어 입력  \n",
    "time.sleep(3)    # 제거시 통합검색창으로 이동함(제거금지)\n",
    "elem.submit()\n",
    "\n",
    "for i in range(30):    # 스크롤횟수\n",
    "    browser.find_element_by_xpath(\"//body\").send_keys(Keys.END)\n",
    "    time.sleep(10)    # 10~15\n",
    "    \n",
    "time.sleep(15)    \n",
    "html = browser.page_source\n",
    "soup = BeautifulSoup(html,\"lxml\")\n",
    "\n",
    "def fetch_list_url():    \n",
    "    params = []\n",
    "    imgList = soup.find_all(\"img\", class_=\"mimg\")    # 이미지 src 접근 tag, class\n",
    "    for im in imgList:\n",
    "        params.append(im[\"src\"])    \n",
    "    return params\n",
    "\n",
    "def  fetch_detail_url():   \n",
    "    params = fetch_list_url()\n",
    "    a = 1\n",
    "    for p in params:\n",
    "        urllib.request.urlretrieve(p, \"e:/images/bing/\"+ str(a) + \"_bing.jpg\" )    # 폴더경로+파일지정(asc번호부여)\n",
    "        a += 1\n",
    "        \n",
    "        \n",
    "fetch_detail_url()\n",
    "browser.quit()"
   ]
  }
 ],
 "metadata": {
  "kernelspec": {
   "display_name": "tf_gpu_kernel",
   "language": "python",
   "name": "tf_gpu"
  },
  "language_info": {
   "codemirror_mode": {
    "name": "ipython",
    "version": 3
   },
   "file_extension": ".py",
   "mimetype": "text/x-python",
   "name": "python",
   "nbconvert_exporter": "python",
   "pygments_lexer": "ipython3",
   "version": "3.7.9"
  },
  "toc": {
   "base_numbering": 1,
   "nav_menu": {},
   "number_sections": true,
   "sideBar": true,
   "skip_h1_title": false,
   "title_cell": "Table of Contents",
   "title_sidebar": "Contents",
   "toc_cell": false,
   "toc_position": {},
   "toc_section_display": true,
   "toc_window_display": false
  }
 },
 "nbformat": 4,
 "nbformat_minor": 5
}
