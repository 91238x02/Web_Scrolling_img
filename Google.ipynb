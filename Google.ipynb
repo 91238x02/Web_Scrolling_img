{
 "cells": [
  {
   "cell_type": "markdown",
   "id": "suffering-testimony",
   "metadata": {
    "ExecuteTime": {
     "end_time": "2021-03-24T11:31:22.857914Z",
     "start_time": "2021-03-24T11:31:22.855914Z"
    }
   },
   "source": [
    "### Google"
   ]
  },
  {
   "cell_type": "code",
   "execution_count": null,
   "id": "f61b5a80",
   "metadata": {},
   "outputs": [],
   "source": [
    "## google\n",
    "import urllib.request \n",
    "from bs4 import BeautifulSoup \n",
    "from selenium import webdriver  \n",
    "from selenium.webdriver.common.keys import Keys\n",
    "import time       \n",
    "\n",
    "binary = 'C:\\\\chromedriver\\\\chromedriver.exe'\n",
    "browser = webdriver.Chrome(binary)\n",
    "browser.get(\"https:\\\\www.google.co.kr\\imghp?hl=ko&tab=wi&ei=l1AdWbegOcra8QXvtr-4Cw&ved=0EKouCBUoAQ\")    # 이미지검색 url\n",
    "elem = browser.find_element_by_xpath(\"//*[@class='gLFyf gsfi']\")    # 검색어 입력창 html class  # naver, bing 과는 다른형태 \n",
    "\n",
    "elem.send_keys(\"CW2288-111\")    # 검색어 입력\n",
    "# time.sleep(3)    # 이미지 검색이 아닌 통합검색으로 되는경우 time.sleep(3) 사용\n",
    "elem.submit()\n",
    "\n",
    "for i in range(30):    # 스크롤 횟수\n",
    "    browser.find_element_by_xpath(\"//body\").send_keys(Keys.END)\n",
    "    time.sleep(10)    # 10 ~ 15초 가 적정선(네트워크 환경 고려 설정)\n",
    "\n",
    "time.sleep(10)                   \n",
    "html = browser.page_source         \n",
    "soup = BeautifulSoup(html, \"lxml\")    \n",
    "\n",
    "#browser.find_element_by_xpath(\"//*[@class='mye4qd']\").click()  # 결과 더보기 버튼 클릭 code (추가 이미지 view 가능)\n",
    "\n",
    "for i in range(30): # 결과 더보기 이후 스크롤\n",
    "    browser.find_element_by_xpath(\"//body\").send_keys(Keys.END)\n",
    "    time.sleep(5)          \n",
    "\n",
    "time.sleep(15)               \n",
    "html = browser.page_source         \n",
    "soup = BeautifulSoup(html, \"lxml\") \n",
    "\n",
    "\n",
    "def fetch_list_url():\n",
    "    params = []\n",
    "    imgList = soup.find_all(\"img\", class_=\"rg_i Q4LuWd\")    # 이미지 src 접근 태그, class\n",
    "    for im in imgList:\n",
    "        try :\n",
    "            params.append(im[\"src\"])                   \n",
    "        except KeyError:\n",
    "            params.append(im[\"data-src\"])\n",
    "    return params\n",
    "\n",
    "\n",
    "def fetch_detail_url():\n",
    "    params = fetch_list_url()\n",
    "    for idx,p in enumerate(params,1):\n",
    "        urllib.request.urlretrieve(p, \"e:\\images\\google\\\\\" + str(idx) + \"_google.jpg\")    # 폴더경로 + 파일명지정(asc번호부여)\n",
    "\n",
    "\n",
    "fetch_detail_url()\n",
    "browser.quit()### Google"
   ]
  }
 ],
 "metadata": {
  "kernelspec": {
   "display_name": "tf_gpu_kernel",
   "language": "python",
   "name": "tf_gpu"
  },
  "language_info": {
   "codemirror_mode": {
    "name": "ipython",
    "version": 3
   },
   "file_extension": ".py",
   "mimetype": "text/x-python",
   "name": "python",
   "nbconvert_exporter": "python",
   "pygments_lexer": "ipython3",
   "version": "3.7.9"
  },
  "toc": {
   "base_numbering": 1,
   "nav_menu": {},
   "number_sections": true,
   "sideBar": true,
   "skip_h1_title": false,
   "title_cell": "Table of Contents",
   "title_sidebar": "Contents",
   "toc_cell": false,
   "toc_position": {},
   "toc_section_display": true,
   "toc_window_display": false
  }
 },
 "nbformat": 4,
 "nbformat_minor": 5
}
