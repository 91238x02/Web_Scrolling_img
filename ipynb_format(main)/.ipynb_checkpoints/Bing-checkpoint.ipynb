{
 "cells": [
  {
   "cell_type": "markdown",
   "id": "durable-circuit",
   "metadata": {
    "ExecuteTime": {
     "end_time": "2021-03-24T11:30:56.962303Z",
     "start_time": "2021-03-24T11:30:56.961303Z"
    }
   },
   "source": [
    "### Bing"
   ]
  },
  {
   "cell_type": "code",
   "execution_count": 1,
   "id": "455fcbe5",
   "metadata": {
    "ExecuteTime": {
     "end_time": "2021-05-04T05:03:09.027705Z",
     "start_time": "2021-05-04T05:00:02.520048Z"
    }
   },
   "outputs": [
    {
     "name": "stdout",
     "output_type": "stream",
     "text": [
      "Input Search_Tag : 904764-103\n",
      "Input scroll_cnt : 15\n",
      "Input scroll_sleep_second >>> range(5~10) : 3\n",
      "\n",
      "Overlaped srcs :  4025\n"
     ]
    },
    {
     "ename": "FileNotFoundError",
     "evalue": "[Errno 2] No such file or directory: 'E:\\\\images\\\\bing\\\\904764-103_1.jpg'",
     "output_type": "error",
     "traceback": [
      "\u001b[1;31m---------------------------------------------------------------------------\u001b[0m",
      "\u001b[1;31mFileNotFoundError\u001b[0m                         Traceback (most recent call last)",
      "\u001b[1;32m<ipython-input-1-08784b8a74af>\u001b[0m in \u001b[0;36m<module>\u001b[1;34m\u001b[0m\n\u001b[0;32m     83\u001b[0m \u001b[0mprint\u001b[0m\u001b[1;33m(\u001b[0m\u001b[1;34m\"Overlaped srcs : \"\u001b[0m\u001b[1;33m,\u001b[0m \u001b[0mlen\u001b[0m\u001b[1;33m(\u001b[0m\u001b[0mparams\u001b[0m\u001b[1;33m)\u001b[0m\u001b[1;33m)\u001b[0m\u001b[1;33m\u001b[0m\u001b[1;33m\u001b[0m\u001b[0m\n\u001b[0;32m     84\u001b[0m \u001b[0mparams\u001b[0m\u001b[1;33m=\u001b[0m\u001b[0mlist\u001b[0m\u001b[1;33m(\u001b[0m\u001b[0mdict\u001b[0m\u001b[1;33m.\u001b[0m\u001b[0mfromkeys\u001b[0m\u001b[1;33m(\u001b[0m\u001b[0mparams\u001b[0m\u001b[1;33m)\u001b[0m\u001b[1;33m)\u001b[0m  \u001b[1;31m#delete overlap  #index URL >> https://m31phy.tistory.com/130\u001b[0m\u001b[1;33m\u001b[0m\u001b[1;33m\u001b[0m\u001b[0m\n\u001b[1;32m---> 85\u001b[1;33m \u001b[0mfetch_detail_url\u001b[0m\u001b[1;33m(\u001b[0m\u001b[1;33m)\u001b[0m  \u001b[1;31m#save img\u001b[0m\u001b[1;33m\u001b[0m\u001b[1;33m\u001b[0m\u001b[0m\n\u001b[0m\u001b[0;32m     86\u001b[0m \u001b[0mprint\u001b[0m\u001b[1;33m(\u001b[0m\u001b[1;34m\"Non_Overlap srcs : \"\u001b[0m\u001b[1;33m,\u001b[0m \u001b[0mlen\u001b[0m\u001b[1;33m(\u001b[0m\u001b[0mparams\u001b[0m\u001b[1;33m)\u001b[0m\u001b[1;33m)\u001b[0m\u001b[1;33m\u001b[0m\u001b[1;33m\u001b[0m\u001b[0m\n\u001b[0;32m     87\u001b[0m \u001b[1;33m\u001b[0m\u001b[0m\n",
      "\u001b[1;32m<ipython-input-1-08784b8a74af>\u001b[0m in \u001b[0;36mfetch_detail_url\u001b[1;34m()\u001b[0m\n\u001b[0;32m     65\u001b[0m \u001b[1;32mdef\u001b[0m \u001b[0mfetch_detail_url\u001b[0m\u001b[1;33m(\u001b[0m\u001b[1;33m)\u001b[0m\u001b[1;33m:\u001b[0m  \u001b[1;31m#save src to local  #changing save_path : Go to the top of this page (Path)\u001b[0m\u001b[1;33m\u001b[0m\u001b[1;33m\u001b[0m\u001b[0m\n\u001b[0;32m     66\u001b[0m     \u001b[1;32mfor\u001b[0m \u001b[0midx\u001b[0m\u001b[1;33m,\u001b[0m\u001b[0mp\u001b[0m \u001b[1;32min\u001b[0m \u001b[0menumerate\u001b[0m\u001b[1;33m(\u001b[0m\u001b[0mparams\u001b[0m\u001b[1;33m,\u001b[0m\u001b[1;36m1\u001b[0m\u001b[1;33m)\u001b[0m\u001b[1;33m:\u001b[0m  \u001b[1;31m#enumerate idx option 1 : get start index from 1 (default=0)\u001b[0m\u001b[1;33m\u001b[0m\u001b[1;33m\u001b[0m\u001b[0m\n\u001b[1;32m---> 67\u001b[1;33m         \u001b[0murllib\u001b[0m\u001b[1;33m.\u001b[0m\u001b[0mrequest\u001b[0m\u001b[1;33m.\u001b[0m\u001b[0murlretrieve\u001b[0m\u001b[1;33m(\u001b[0m\u001b[0mp\u001b[0m\u001b[1;33m,\u001b[0m \u001b[0msave_path\u001b[0m \u001b[1;33m+\u001b[0m \u001b[0mSearch_Tag\u001b[0m \u001b[1;33m+\u001b[0m \u001b[1;34m'_'\u001b[0m \u001b[1;33m+\u001b[0m \u001b[0mstr\u001b[0m\u001b[1;33m(\u001b[0m\u001b[0midx\u001b[0m\u001b[1;33m)\u001b[0m \u001b[1;33m+\u001b[0m \u001b[1;34m\".jpg\"\u001b[0m\u001b[1;33m)\u001b[0m\u001b[1;33m\u001b[0m\u001b[1;33m\u001b[0m\u001b[0m\n\u001b[0m\u001b[0;32m     68\u001b[0m \u001b[1;31m###########################################################################################################\u001b[0m\u001b[1;33m\u001b[0m\u001b[1;33m\u001b[0m\u001b[1;33m\u001b[0m\u001b[0m\n\u001b[0;32m     69\u001b[0m \u001b[1;33m\u001b[0m\u001b[0m\n",
      "\u001b[1;32m~\\anaconda3\\envs\\ob_1\\lib\\urllib\\request.py\u001b[0m in \u001b[0;36murlretrieve\u001b[1;34m(url, filename, reporthook, data)\u001b[0m\n\u001b[0;32m    255\u001b[0m         \u001b[1;31m# Handle temporary file setup.\u001b[0m\u001b[1;33m\u001b[0m\u001b[1;33m\u001b[0m\u001b[1;33m\u001b[0m\u001b[0m\n\u001b[0;32m    256\u001b[0m         \u001b[1;32mif\u001b[0m \u001b[0mfilename\u001b[0m\u001b[1;33m:\u001b[0m\u001b[1;33m\u001b[0m\u001b[1;33m\u001b[0m\u001b[0m\n\u001b[1;32m--> 257\u001b[1;33m             \u001b[0mtfp\u001b[0m \u001b[1;33m=\u001b[0m \u001b[0mopen\u001b[0m\u001b[1;33m(\u001b[0m\u001b[0mfilename\u001b[0m\u001b[1;33m,\u001b[0m \u001b[1;34m'wb'\u001b[0m\u001b[1;33m)\u001b[0m\u001b[1;33m\u001b[0m\u001b[1;33m\u001b[0m\u001b[0m\n\u001b[0m\u001b[0;32m    258\u001b[0m         \u001b[1;32melse\u001b[0m\u001b[1;33m:\u001b[0m\u001b[1;33m\u001b[0m\u001b[1;33m\u001b[0m\u001b[0m\n\u001b[0;32m    259\u001b[0m             \u001b[0mtfp\u001b[0m \u001b[1;33m=\u001b[0m \u001b[0mtempfile\u001b[0m\u001b[1;33m.\u001b[0m\u001b[0mNamedTemporaryFile\u001b[0m\u001b[1;33m(\u001b[0m\u001b[0mdelete\u001b[0m\u001b[1;33m=\u001b[0m\u001b[1;32mFalse\u001b[0m\u001b[1;33m)\u001b[0m\u001b[1;33m\u001b[0m\u001b[1;33m\u001b[0m\u001b[0m\n",
      "\u001b[1;31mFileNotFoundError\u001b[0m: [Errno 2] No such file or directory: 'E:\\\\images\\\\bing\\\\904764-103_1.jpg'"
     ]
    }
   ],
   "source": [
    "### Bing\n",
    "\"\"\"Before execute code below, check out your kernel or jupyter notebook kernel environment \n",
    "If you have problem, just copy this code and paste to yout jupyter notebook (recommended)\n",
    "\n",
    "browser must be pop up on the screen : if the browser is in a state of minimization, results may go bad\n",
    "(It does not matter covering the page with other page like jupyternotebook >> you can do other works)\n",
    "\n",
    "If you have trouble with lxml, selenium, bs4, try to isntall module in anaconda prompt\n",
    ">>> execute anconda prompt, try to [conda install lxml], [conda install selenium], [conda install bs4]\n",
    "\n",
    "warning : If you try this code with high frequency, Search engine may ban your ip temporarily (for 5~10 minutes)\n",
    "\n",
    "Refer to : Scroll_cnt=5 >>> about 100~200 imgs (depending on the searching word)\"\"\"\n",
    "\n",
    "\n",
    "## Install module required\n",
    "#!pip install lxml\n",
    "#!pip install selenium\n",
    "#!pip install bs4\n",
    "\n",
    "\n",
    "## Import modules\n",
    "import urllib.request    \n",
    "from bs4 import BeautifulSoup    \n",
    "from selenium import webdriver    \n",
    "from selenium.webdriver.common.keys import Keys\n",
    "import time    \n",
    "\n",
    "\n",
    "##### Path ######################################################################\n",
    "Chromedriver_PATH = 'c:\\\\chromedriver\\\\chromedriver.exe'  # Chromedriver PATH \n",
    "#save_path = 'E:\\\\images\\\\bing\\\\'  #save_path \n",
    "save_path = 'd:\\\\images\\\\bing\\\\'  #save_path \n",
    "#################################################################################\n",
    "\n",
    "\n",
    "## get userdata & parameters\n",
    "Search_Tag = input(\"Input Search_Tag : \")  # Search_Tag\n",
    "scroll_cnt = int(input(\"Input scroll_cnt : \"))  #scroll count\n",
    "scrolltime = float(input(\"Input scroll_sleep_second >>> range(5~10) : \"))  #Sleep time \n",
    "\n",
    "\n",
    "## Get driver & open\n",
    "driver = webdriver.Chrome(Chromedriver_PATH)  # Chromedriver PATH \n",
    "driver.get(\"https://www.bing.com/images?Form=Z9LH\")    \n",
    "driver.maximize_window()\n",
    "time.sleep(1)\n",
    "\n",
    "\n",
    "## input Search_Tag & Submit\n",
    "elem = driver.find_element_by_id(\"sb_form_q\")    \n",
    "elem.send_keys(Search_Tag)\n",
    "time.sleep(1.5)  #Do not remove >> if you remove this line, can't go next step \n",
    "elem.submit()\n",
    "time.sleep(3.0)  #Do not remove\n",
    "\n",
    "\n",
    "############## Functions ################################################################################\n",
    "def fetch_list_url():  #parsing src url\n",
    "    imgList = soup.find_all(\"img\", class_=\"mimg\")\n",
    "    for im in imgList:\n",
    "        params.append(im[\"src\"])  \n",
    "    return params\n",
    "\n",
    "\n",
    "def fetch_detail_url():  #save src to local  #changing save_path : Go to the top of this page (Path)\n",
    "    for idx,p in enumerate(params,1):  #enumerate idx option 1 : get start index from 1 (default=0)\n",
    "        urllib.request.urlretrieve(p, save_path + Search_Tag + '_' + str(idx) + \".jpg\")\n",
    "###########################################################################################################    \n",
    "\n",
    "\n",
    "## Scrolling & Parsing\n",
    "params=[]\n",
    "for i in range(scroll_cnt):\n",
    "    html = driver.page_source  #get source         \n",
    "    soup = BeautifulSoup(html, \"lxml\") \n",
    "    params = fetch_list_url()  #save the img_url to params\n",
    "    driver.execute_script(\"window.scrollTo(0, document.body.scrollHeight);\")  #scroll\n",
    "    time.sleep(scrolltime)\n",
    "\n",
    "\n",
    "## Save imgs\n",
    "print('')\n",
    "print(\"Overlaped srcs : \", len(params))\n",
    "params=list(dict.fromkeys(params))  #delete overlap  #index URL >> https://m31phy.tistory.com/130\n",
    "fetch_detail_url()  #save img\n",
    "print(\"Non_Overlap srcs : \", len(params))\n",
    "\n",
    "\n",
    "driver.close()  #close browser"
   ]
  }
 ],
 "metadata": {
  "kernelspec": {
   "display_name": "ob_1",
   "language": "python",
   "name": "ob_1"
  },
  "language_info": {
   "codemirror_mode": {
    "name": "ipython",
    "version": 3
   },
   "file_extension": ".py",
   "mimetype": "text/x-python",
   "name": "python",
   "nbconvert_exporter": "python",
   "pygments_lexer": "ipython3",
   "version": "3.7.9"
  },
  "toc": {
   "base_numbering": 1,
   "nav_menu": {},
   "number_sections": true,
   "sideBar": true,
   "skip_h1_title": false,
   "title_cell": "Table of Contents",
   "title_sidebar": "Contents",
   "toc_cell": false,
   "toc_position": {},
   "toc_section_display": true,
   "toc_window_display": false
  }
 },
 "nbformat": 4,
 "nbformat_minor": 5
}
